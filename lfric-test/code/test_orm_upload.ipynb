{
 "cells": [
  {
   "cell_type": "code",
   "execution_count": 1,
   "metadata": {},
   "outputs": [],
   "source": [
    "import pathlib\n",
    "from psql import db, session\n",
    "from orm_schema import model_config, model_profile, model_run\n",
    "from datetime import datetime\n",
    "import re"
   ]
  },
  {
   "cell_type": "code",
   "execution_count": 2,
   "metadata": {},
   "outputs": [
    {
     "name": "stdout",
     "output_type": "stream",
     "text": [
      "[PosixPath('file/20220610112000/timer_36246.txt'), PosixPath('file/20220606/timer_36133_prev.txt'), PosixPath('file/20220606/timer_36133.txt'), PosixPath('file/20220609/timer_36219.txt'), PosixPath('file/20220615025400/timer_36372.txt'), PosixPath('file/20220617234000/timer_36434.txt'), PosixPath('file/20220608/timer_36188.txt'), PosixPath('file/20220607/timer_36151.txt'), PosixPath('file/20220616204200/timer_36392.txt'), PosixPath('file/20220605/timer_36133.txt'), PosixPath('file/20220603/timer_36132.txt'), PosixPath('file/20220603/timer_36132_prev.txt'), PosixPath('file/20220603/timer_36132_prev_2.txt'), PosixPath('file/20220603/20220604/timer_36133.txt')]\n"
     ]
    }
   ],
   "source": [
    "file_input_path='./file'\n",
    "p = pathlib.Path(file_input_path)\n",
    "f_list = list(p.glob('**/*.txt'))\n",
    "print(f_list)"
   ]
  },
  {
   "cell_type": "code",
   "execution_count": 3,
   "metadata": {},
   "outputs": [],
   "source": [
    "# model configuration\n",
    "model_name = 'lfric1'\n",
    "num_procss = '6'\n",
    "num_thread='1'\n",
    "model_resolution='c16_dt3600'\n",
    "configuration='canned'\n",
    "\n",
    "new_model = model_config(\\\n",
    "    model=model_name, resolution=model_resolution,\\\n",
    "    thread=num_thread, process=num_procss, config=configuration)"
   ]
  },
  {
   "cell_type": "code",
   "execution_count": 8,
   "metadata": {},
   "outputs": [
    {
     "name": "stdout",
     "output_type": "stream",
     "text": [
      "None\n",
      "<class 'NoneType'>\n"
     ]
    },
    {
     "ename": "TypeError",
     "evalue": "'NoneType' object is not subscriptable",
     "output_type": "error",
     "traceback": [
      "\u001b[0;31m---------------------------------------------------------------------------\u001b[0m",
      "\u001b[0;31mTypeError\u001b[0m                                 Traceback (most recent call last)",
      "\u001b[1;32m/home/kelly/projects/lfric/lfric/test_orm_upload.ipynb Cell 4'\u001b[0m in \u001b[0;36m<cell line: 9>\u001b[0;34m()\u001b[0m\n\u001b[1;32m      <a href='vscode-notebook-cell:/home/kelly/projects/lfric/lfric/test_orm_upload.ipynb#ch0000004?line=6'>7</a>\u001b[0m \u001b[39mprint\u001b[39m(isExist_model)\n\u001b[1;32m      <a href='vscode-notebook-cell:/home/kelly/projects/lfric/lfric/test_orm_upload.ipynb#ch0000004?line=7'>8</a>\u001b[0m \u001b[39mprint\u001b[39m(\u001b[39mtype\u001b[39m(isExist_model))\n\u001b[0;32m----> <a href='vscode-notebook-cell:/home/kelly/projects/lfric/lfric/test_orm_upload.ipynb#ch0000004?line=8'>9</a>\u001b[0m \u001b[39mprint\u001b[39m(isExist_model[\u001b[39m0\u001b[39;49m])\n\u001b[1;32m     <a href='vscode-notebook-cell:/home/kelly/projects/lfric/lfric/test_orm_upload.ipynb#ch0000004?line=9'>10</a>\u001b[0m \u001b[39mprint\u001b[39m(\u001b[39mtype\u001b[39m(isExist_model[\u001b[39m0\u001b[39m]))\n",
      "\u001b[0;31mTypeError\u001b[0m: 'NoneType' object is not subscriptable"
     ]
    }
   ],
   "source": [
    "isExist_model = session.query(model_config.id).filter(\\\n",
    "            model_config.model == model_name, \\\n",
    "            model_config.resolution == model_resolution, \\\n",
    "            model_config.thread == num_thread, \\\n",
    "            model_config.process == num_procss, \\\n",
    "            model_config.config == configuration).first()\n",
    "print(isExist_model)\n",
    "print(type(isExist_model))\n",
    "print(isExist_model[0])\n",
    "print(type(isExist_model[0]))"
   ]
  },
  {
   "cell_type": "code",
   "execution_count": 51,
   "metadata": {},
   "outputs": [
    {
     "name": "stdout",
     "output_type": "stream",
     "text": [
      "[(2,), (3,)]\n",
      "<class 'list'>\n",
      "(2,)\n",
      "<class 'sqlalchemy.engine.row.Row'>\n",
      "2\n",
      "<class 'int'>\n"
     ]
    }
   ],
   "source": [
    "# isExist_model = session.query(model_config.id).filter(\\\n",
    "#             model_config.model == model_name, \\\n",
    "#             model_config.resolution == model_resolution, \\\n",
    "#             model_config.thread == num_thread, \\\n",
    "#             model_config.process == num_procss, \\\n",
    "#             model_config.config == configuration).all()\n",
    "# print(isExist_model)\n",
    "# print(type(isExist_model))\n",
    "# print(isExist_model[0])\n",
    "# print(type(isExist_model[0]))\n",
    "# print(isExist_model[0][0])\n",
    "# print(type(isExist_model[0][0]))\n",
    "# session.close()"
   ]
  },
  {
   "cell_type": "code",
   "execution_count": 67,
   "metadata": {},
   "outputs": [
    {
     "ename": "NoResultFound",
     "evalue": "No row was found when one was required",
     "output_type": "error",
     "traceback": [
      "\u001b[0;31m---------------------------------------------------------------------------\u001b[0m",
      "\u001b[0;31mNoResultFound\u001b[0m                             Traceback (most recent call last)",
      "\u001b[1;32m/home/kelly/projects/lfric/lfric/test_orm_upload.ipynb Cell 7'\u001b[0m in \u001b[0;36m<cell line: 13>\u001b[0;34m()\u001b[0m\n\u001b[1;32m      <a href='vscode-notebook-cell:/home/kelly/projects/lfric/lfric/test_orm_upload.ipynb#ch0000010?line=7'>8</a>\u001b[0m new_model \u001b[39m=\u001b[39m model_config(\\\n\u001b[1;32m      <a href='vscode-notebook-cell:/home/kelly/projects/lfric/lfric/test_orm_upload.ipynb#ch0000010?line=8'>9</a>\u001b[0m     model\u001b[39m=\u001b[39mmodel_name, resolution\u001b[39m=\u001b[39mmodel_resolution,\\\n\u001b[1;32m     <a href='vscode-notebook-cell:/home/kelly/projects/lfric/lfric/test_orm_upload.ipynb#ch0000010?line=9'>10</a>\u001b[0m     thread\u001b[39m=\u001b[39mnum_thread, process\u001b[39m=\u001b[39mnum_procss, config\u001b[39m=\u001b[39mconfiguration)\n\u001b[1;32m     <a href='vscode-notebook-cell:/home/kelly/projects/lfric/lfric/test_orm_upload.ipynb#ch0000010?line=11'>12</a>\u001b[0m isExist_model2\u001b[39m=\u001b[39m[]\n\u001b[0;32m---> <a href='vscode-notebook-cell:/home/kelly/projects/lfric/lfric/test_orm_upload.ipynb#ch0000010?line=12'>13</a>\u001b[0m isExist_model2 \u001b[39m=\u001b[39m session\u001b[39m.\u001b[39;49mquery(model_config\u001b[39m.\u001b[39;49mid)\u001b[39m.\u001b[39;49mfilter(\\\n\u001b[1;32m     <a href='vscode-notebook-cell:/home/kelly/projects/lfric/lfric/test_orm_upload.ipynb#ch0000010?line=13'>14</a>\u001b[0m             model_config\u001b[39m.\u001b[39;49mmodel \u001b[39m==\u001b[39;49m model_name, \\\n\u001b[1;32m     <a href='vscode-notebook-cell:/home/kelly/projects/lfric/lfric/test_orm_upload.ipynb#ch0000010?line=14'>15</a>\u001b[0m             model_config\u001b[39m.\u001b[39;49mresolution \u001b[39m==\u001b[39;49m model_resolution, \\\n\u001b[1;32m     <a href='vscode-notebook-cell:/home/kelly/projects/lfric/lfric/test_orm_upload.ipynb#ch0000010?line=15'>16</a>\u001b[0m             model_config\u001b[39m.\u001b[39;49mthread \u001b[39m==\u001b[39;49m num_thread, \\\n\u001b[1;32m     <a href='vscode-notebook-cell:/home/kelly/projects/lfric/lfric/test_orm_upload.ipynb#ch0000010?line=16'>17</a>\u001b[0m             model_config\u001b[39m.\u001b[39;49mprocess \u001b[39m==\u001b[39;49m num_procss, \\\n\u001b[1;32m     <a href='vscode-notebook-cell:/home/kelly/projects/lfric/lfric/test_orm_upload.ipynb#ch0000010?line=17'>18</a>\u001b[0m             model_config\u001b[39m.\u001b[39;49mconfig \u001b[39m==\u001b[39;49m configuration)\u001b[39m.\u001b[39;49mone()\n",
      "File \u001b[0;32m~/miniconda3/envs/auto/lib/python3.9/site-packages/sqlalchemy/orm/query.py:2856\u001b[0m, in \u001b[0;36mQuery.one\u001b[0;34m(self)\u001b[0m\n\u001b[1;32m   2838\u001b[0m \u001b[39mdef\u001b[39;00m \u001b[39mone\u001b[39m(\u001b[39mself\u001b[39m):\n\u001b[1;32m   2839\u001b[0m     \u001b[39m\"\"\"Return exactly one result or raise an exception.\u001b[39;00m\n\u001b[1;32m   2840\u001b[0m \n\u001b[1;32m   2841\u001b[0m \u001b[39m    Raises ``sqlalchemy.orm.exc.NoResultFound`` if the query selects\u001b[39;00m\n\u001b[0;32m   (...)\u001b[0m\n\u001b[1;32m   2854\u001b[0m \n\u001b[1;32m   2855\u001b[0m \u001b[39m    \"\"\"\u001b[39;00m\n\u001b[0;32m-> 2856\u001b[0m     \u001b[39mreturn\u001b[39;00m \u001b[39mself\u001b[39;49m\u001b[39m.\u001b[39;49m_iter()\u001b[39m.\u001b[39;49mone()\n",
      "File \u001b[0;32m~/miniconda3/envs/auto/lib/python3.9/site-packages/sqlalchemy/engine/result.py:1191\u001b[0m, in \u001b[0;36mResult.one\u001b[0;34m(self)\u001b[0m\n\u001b[1;32m   1164\u001b[0m \u001b[39mdef\u001b[39;00m \u001b[39mone\u001b[39m(\u001b[39mself\u001b[39m):\n\u001b[1;32m   1165\u001b[0m     \u001b[39m\"\"\"Return exactly one row or raise an exception.\u001b[39;00m\n\u001b[1;32m   1166\u001b[0m \n\u001b[1;32m   1167\u001b[0m \u001b[39m    Raises :class:`.NoResultFound` if the result returns no\u001b[39;00m\n\u001b[0;32m   (...)\u001b[0m\n\u001b[1;32m   1189\u001b[0m \n\u001b[1;32m   1190\u001b[0m \u001b[39m    \"\"\"\u001b[39;00m\n\u001b[0;32m-> 1191\u001b[0m     \u001b[39mreturn\u001b[39;00m \u001b[39mself\u001b[39;49m\u001b[39m.\u001b[39;49m_only_one_row(\n\u001b[1;32m   1192\u001b[0m         raise_for_second_row\u001b[39m=\u001b[39;49m\u001b[39mTrue\u001b[39;49;00m, raise_for_none\u001b[39m=\u001b[39;49m\u001b[39mTrue\u001b[39;49;00m, scalar\u001b[39m=\u001b[39;49m\u001b[39mFalse\u001b[39;49;00m\n\u001b[1;32m   1193\u001b[0m     )\n",
      "File \u001b[0;32m~/miniconda3/envs/auto/lib/python3.9/site-packages/sqlalchemy/engine/result.py:562\u001b[0m, in \u001b[0;36mResultInternal._only_one_row\u001b[0;34m(self, raise_for_second_row, raise_for_none, scalar)\u001b[0m\n\u001b[1;32m    560\u001b[0m \u001b[39mif\u001b[39;00m row \u001b[39mis\u001b[39;00m \u001b[39mNone\u001b[39;00m:\n\u001b[1;32m    561\u001b[0m     \u001b[39mif\u001b[39;00m raise_for_none:\n\u001b[0;32m--> 562\u001b[0m         \u001b[39mraise\u001b[39;00m exc\u001b[39m.\u001b[39mNoResultFound(\n\u001b[1;32m    563\u001b[0m             \u001b[39m\"\u001b[39m\u001b[39mNo row was found when one was required\u001b[39m\u001b[39m\"\u001b[39m\n\u001b[1;32m    564\u001b[0m         )\n\u001b[1;32m    565\u001b[0m     \u001b[39melse\u001b[39;00m:\n\u001b[1;32m    566\u001b[0m         \u001b[39mreturn\u001b[39;00m \u001b[39mNone\u001b[39;00m\n",
      "\u001b[0;31mNoResultFound\u001b[0m: No row was found when one was required"
     ]
    }
   ],
   "source": [
    "# model configuration\n",
    "model_name = 'lfric1'\n",
    "num_procss = '6'\n",
    "num_thread='1'\n",
    "model_resolution='c16_dt3600'\n",
    "configuration='canned'\n",
    "\n",
    "new_model = model_config(\\\n",
    "    model=model_name, resolution=model_resolution,\\\n",
    "    thread=num_thread, process=num_procss, config=configuration)\n",
    "    \n",
    "isExist_model2=[]\n",
    "isExist_model2 = session.query(model_config.id).filter(\\\n",
    "            model_config.model == model_name, \\\n",
    "            model_config.resolution == model_resolution, \\\n",
    "            model_config.thread == num_thread, \\\n",
    "            model_config.process == num_procss, \\\n",
    "            model_config.config == configuration).one()\n",
    "#return할 쿼리가 없으면 변수가 존재하지 않는다 그러므로 빈리스트의 변수를 하나 만든다."
   ]
  },
  {
   "cell_type": "code",
   "execution_count": 69,
   "metadata": {},
   "outputs": [
    {
     "name": "stdout",
     "output_type": "stream",
     "text": [
      "new model 0 added\n"
     ]
    }
   ],
   "source": [
    "if isExist_model2 == []:\n",
    "    session.add(new_model)\n",
    "    print(f'new model {new_model}')\n",
    "    session.commit()"
   ]
  },
  {
   "cell_type": "code",
   "execution_count": null,
   "metadata": {},
   "outputs": [],
   "source": []
  }
 ],
 "metadata": {
  "kernelspec": {
   "display_name": "Python 3.9.7 ('auto')",
   "language": "python",
   "name": "python3"
  },
  "language_info": {
   "codemirror_mode": {
    "name": "ipython",
    "version": 3
   },
   "file_extension": ".py",
   "mimetype": "text/x-python",
   "name": "python",
   "nbconvert_exporter": "python",
   "pygments_lexer": "ipython3",
   "version": "3.9.7"
  },
  "orig_nbformat": 4,
  "vscode": {
   "interpreter": {
    "hash": "2b88079544c908de0af3fef56119d39da0bc736d40dc3d04387304d3f6be4e46"
   }
  }
 },
 "nbformat": 4,
 "nbformat_minor": 2
}
