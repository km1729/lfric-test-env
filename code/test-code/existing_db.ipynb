{
 "cells": [
  {
   "cell_type": "code",
   "execution_count": 2,
   "id": "595749a7-0544-4af9-9344-294f2089c540",
   "metadata": {},
   "outputs": [],
   "source": [
    "from sqlalchemy import create_engine, MetaData, Table\n",
    "from psql import db, session"
   ]
  },
  {
   "cell_type": "code",
   "execution_count": 7,
   "id": "5a7eff30-31eb-4047-aa21-cad1058e4b1c",
   "metadata": {},
   "outputs": [],
   "source": [
    "model_config = Table('model_config', MetaData(), autoload=True, autoload_with=db)\n",
    "model_run = Table('model_run', MetaData(), autoload=True, autoload_with=db)\n",
    "model_profile = Table('model_profile', MetaData(), autoload=True, autoload_with=db)\n",
    "model_view = Table('model_view', MetaData(), autoload=True, autoload_with=db)"
   ]
  },
  {
   "cell_type": "code",
   "execution_count": 5,
   "id": "05279c5b-ab36-4442-a1da-91301911b435",
   "metadata": {},
   "outputs": [
    {
     "name": "stdout",
     "output_type": "stream",
     "text": [
      "<class 'sqlalchemy.sql.schema.Table'>\n"
     ]
    }
   ],
   "source": [
    "print(type(model_config))"
   ]
  },
  {
   "cell_type": "code",
   "execution_count": 6,
   "id": "a2b426ac-671e-4b4b-96b4-e23134249dfb",
   "metadata": {},
   "outputs": [
    {
     "data": {
      "text/plain": [
       "[(1, 'model_a', 'c16_dt3600', '1', '6', 'breeze'),\n",
       " (2, 'model_b', 'c16_dt3600', '1', '6', 'breeze')]"
      ]
     },
     "execution_count": 6,
     "metadata": {},
     "output_type": "execute_result"
    }
   ],
   "source": [
    "session.query(model_config).all()"
   ]
  },
  {
   "cell_type": "code",
   "execution_count": 8,
   "id": "7a50bf97-e86f-4374-ada9-e64f85146b4f",
   "metadata": {},
   "outputs": [
    {
     "data": {
      "text/plain": [
       "[(1, datetime.datetime(2015, 1, 10, 0, 51, 14), 25464, 1),\n",
       " (2, datetime.datetime(2015, 2, 10, 0, 51, 14), 25485, 1),\n",
       " (3, datetime.datetime(2015, 3, 10, 0, 51, 14), 26554, 1),\n",
       " (4, datetime.datetime(2015, 1, 10, 0, 51, 14), 25464, 2),\n",
       " (5, datetime.datetime(2015, 2, 10, 0, 51, 14), 25485, 2),\n",
       " (6, datetime.datetime(2015, 3, 10, 0, 51, 14), 26554, 2)]"
      ]
     },
     "execution_count": 8,
     "metadata": {},
     "output_type": "execute_result"
    }
   ],
   "source": [
    "session.query(model_run).all()"
   ]
  },
  {
   "cell_type": "code",
   "execution_count": 9,
   "id": "0042a0cc-5be2-4e83-85df-c17d3943601f",
   "metadata": {},
   "outputs": [
    {
     "data": {
      "text/plain": [
       "[(1, 'routine1', Decimal('23.85'), Decimal('24.00'), Decimal('25.00'), 1, Decimal('100.00'), Decimal('23.90'), 1),\n",
       " (2, 'routine2', Decimal('3.00'), Decimal('4.00'), Decimal('5.00'), 1, Decimal('13.50'), Decimal('3.23'), 1),\n",
       " (3, 'routine3', Decimal('0.17'), Decimal('0.17'), Decimal('0.17'), 1, Decimal('0.72'), Decimal('0.17'), 1),\n",
       " (4, 'routine1', Decimal('23.85'), Decimal('24.00'), Decimal('25.00'), 1, Decimal('100.00'), Decimal('23.90'), 2),\n",
       " (5, 'routine2', Decimal('3.00'), Decimal('4.00'), Decimal('5.00'), 1, Decimal('13.50'), Decimal('3.23'), 2),\n",
       " (6, 'routine3', Decimal('0.17'), Decimal('0.17'), Decimal('0.17'), 1, Decimal('0.72'), Decimal('0.17'), 2),\n",
       " (7, 'routine1', Decimal('23.85'), Decimal('24.00'), Decimal('25.00'), 1, Decimal('100.00'), Decimal('23.90'), 3),\n",
       " (8, 'routine2', Decimal('3.00'), Decimal('4.00'), Decimal('5.00'), 1, Decimal('13.50'), Decimal('3.23'), 3),\n",
       " (9, 'routine3', Decimal('0.17'), Decimal('0.17'), Decimal('0.17'), 1, Decimal('0.72'), Decimal('0.17'), 3),\n",
       " (10, 'routine1', Decimal('23.85'), Decimal('24.00'), Decimal('25.00'), 1, Decimal('100.00'), Decimal('23.90'), 4),\n",
       " (11, 'routine2', Decimal('3.00'), Decimal('4.00'), Decimal('5.00'), 1, Decimal('13.50'), Decimal('3.23'), 4),\n",
       " (12, 'routine3', Decimal('0.17'), Decimal('0.17'), Decimal('0.17'), 1, Decimal('0.72'), Decimal('0.17'), 4),\n",
       " (13, 'routine1', Decimal('23.85'), Decimal('24.00'), Decimal('25.00'), 1, Decimal('100.00'), Decimal('23.90'), 5),\n",
       " (14, 'routine2', Decimal('3.00'), Decimal('4.00'), Decimal('5.00'), 1, Decimal('13.50'), Decimal('3.23'), 5),\n",
       " (15, 'routine3', Decimal('0.17'), Decimal('0.17'), Decimal('0.17'), 1, Decimal('0.72'), Decimal('0.17'), 5),\n",
       " (16, 'routine1', Decimal('23.85'), Decimal('24.00'), Decimal('25.00'), 1, Decimal('100.00'), Decimal('23.90'), 6),\n",
       " (17, 'routine2', Decimal('3.00'), Decimal('4.00'), Decimal('5.00'), 1, Decimal('13.50'), Decimal('3.23'), 6),\n",
       " (18, 'routine3', Decimal('0.17'), Decimal('0.17'), Decimal('0.17'), 1, Decimal('0.72'), Decimal('0.17'), 6)]"
      ]
     },
     "execution_count": 9,
     "metadata": {},
     "output_type": "execute_result"
    }
   ],
   "source": [
    "session.query(model_profile).all()"
   ]
  },
  {
   "cell_type": "code",
   "execution_count": 10,
   "id": "56a9cd31-495a-415e-9963-f97046afd12c",
   "metadata": {},
   "outputs": [
    {
     "data": {
      "text/plain": [
       "[('model_a', 'c16_dt3600', '1', '6', 'breeze', datetime.datetime(2015, 1, 10, 0, 51, 14), 25464, 'routine1', Decimal('23.85'), Decimal('24.00'), Decimal('25.00'), 1, Decimal('100.00'), Decimal('23.90')),\n",
       " ('model_a', 'c16_dt3600', '1', '6', 'breeze', datetime.datetime(2015, 1, 10, 0, 51, 14), 25464, 'routine2', Decimal('3.00'), Decimal('4.00'), Decimal('5.00'), 1, Decimal('13.50'), Decimal('3.23')),\n",
       " ('model_a', 'c16_dt3600', '1', '6', 'breeze', datetime.datetime(2015, 1, 10, 0, 51, 14), 25464, 'routine3', Decimal('0.17'), Decimal('0.17'), Decimal('0.17'), 1, Decimal('0.72'), Decimal('0.17')),\n",
       " ('model_a', 'c16_dt3600', '1', '6', 'breeze', datetime.datetime(2015, 2, 10, 0, 51, 14), 25485, 'routine1', Decimal('23.85'), Decimal('24.00'), Decimal('25.00'), 1, Decimal('100.00'), Decimal('23.90')),\n",
       " ('model_a', 'c16_dt3600', '1', '6', 'breeze', datetime.datetime(2015, 2, 10, 0, 51, 14), 25485, 'routine2', Decimal('3.00'), Decimal('4.00'), Decimal('5.00'), 1, Decimal('13.50'), Decimal('3.23')),\n",
       " ('model_a', 'c16_dt3600', '1', '6', 'breeze', datetime.datetime(2015, 2, 10, 0, 51, 14), 25485, 'routine3', Decimal('0.17'), Decimal('0.17'), Decimal('0.17'), 1, Decimal('0.72'), Decimal('0.17')),\n",
       " ('model_a', 'c16_dt3600', '1', '6', 'breeze', datetime.datetime(2015, 3, 10, 0, 51, 14), 26554, 'routine1', Decimal('23.85'), Decimal('24.00'), Decimal('25.00'), 1, Decimal('100.00'), Decimal('23.90')),\n",
       " ('model_a', 'c16_dt3600', '1', '6', 'breeze', datetime.datetime(2015, 3, 10, 0, 51, 14), 26554, 'routine2', Decimal('3.00'), Decimal('4.00'), Decimal('5.00'), 1, Decimal('13.50'), Decimal('3.23')),\n",
       " ('model_a', 'c16_dt3600', '1', '6', 'breeze', datetime.datetime(2015, 3, 10, 0, 51, 14), 26554, 'routine3', Decimal('0.17'), Decimal('0.17'), Decimal('0.17'), 1, Decimal('0.72'), Decimal('0.17')),\n",
       " ('model_b', 'c16_dt3600', '1', '6', 'breeze', datetime.datetime(2015, 1, 10, 0, 51, 14), 25464, 'routine1', Decimal('23.85'), Decimal('24.00'), Decimal('25.00'), 1, Decimal('100.00'), Decimal('23.90')),\n",
       " ('model_b', 'c16_dt3600', '1', '6', 'breeze', datetime.datetime(2015, 1, 10, 0, 51, 14), 25464, 'routine2', Decimal('3.00'), Decimal('4.00'), Decimal('5.00'), 1, Decimal('13.50'), Decimal('3.23')),\n",
       " ('model_b', 'c16_dt3600', '1', '6', 'breeze', datetime.datetime(2015, 1, 10, 0, 51, 14), 25464, 'routine3', Decimal('0.17'), Decimal('0.17'), Decimal('0.17'), 1, Decimal('0.72'), Decimal('0.17')),\n",
       " ('model_b', 'c16_dt3600', '1', '6', 'breeze', datetime.datetime(2015, 2, 10, 0, 51, 14), 25485, 'routine1', Decimal('23.85'), Decimal('24.00'), Decimal('25.00'), 1, Decimal('100.00'), Decimal('23.90')),\n",
       " ('model_b', 'c16_dt3600', '1', '6', 'breeze', datetime.datetime(2015, 2, 10, 0, 51, 14), 25485, 'routine2', Decimal('3.00'), Decimal('4.00'), Decimal('5.00'), 1, Decimal('13.50'), Decimal('3.23')),\n",
       " ('model_b', 'c16_dt3600', '1', '6', 'breeze', datetime.datetime(2015, 2, 10, 0, 51, 14), 25485, 'routine3', Decimal('0.17'), Decimal('0.17'), Decimal('0.17'), 1, Decimal('0.72'), Decimal('0.17')),\n",
       " ('model_b', 'c16_dt3600', '1', '6', 'breeze', datetime.datetime(2015, 3, 10, 0, 51, 14), 26554, 'routine1', Decimal('23.85'), Decimal('24.00'), Decimal('25.00'), 1, Decimal('100.00'), Decimal('23.90')),\n",
       " ('model_b', 'c16_dt3600', '1', '6', 'breeze', datetime.datetime(2015, 3, 10, 0, 51, 14), 26554, 'routine2', Decimal('3.00'), Decimal('4.00'), Decimal('5.00'), 1, Decimal('13.50'), Decimal('3.23')),\n",
       " ('model_b', 'c16_dt3600', '1', '6', 'breeze', datetime.datetime(2015, 3, 10, 0, 51, 14), 26554, 'routine3', Decimal('0.17'), Decimal('0.17'), Decimal('0.17'), 1, Decimal('0.72'), Decimal('0.17'))]"
      ]
     },
     "execution_count": 10,
     "metadata": {},
     "output_type": "execute_result"
    }
   ],
   "source": [
    "session.query(model_view).all()"
   ]
  },
  {
   "cell_type": "code",
   "execution_count": 18,
   "id": "c3c5d888-0bcd-409a-b76a-42700f81e78a",
   "metadata": {},
   "outputs": [
    {
     "ename": "AttributeError",
     "evalue": "'Table' object has no attribute 'id'",
     "output_type": "error",
     "traceback": [
      "\u001b[0;31m---------------------------------------------------------------------------\u001b[0m",
      "\u001b[0;31mAttributeError\u001b[0m                            Traceback (most recent call last)",
      "Input \u001b[0;32mIn [18]\u001b[0m, in \u001b[0;36m<cell line: 1>\u001b[0;34m()\u001b[0m\n\u001b[0;32m----> 1\u001b[0m test \u001b[38;5;241m=\u001b[39m  session\u001b[38;5;241m.\u001b[39mquery(model_config)\u001b[38;5;241m.\u001b[39mfilter(\u001b[43mmodel_config\u001b[49m\u001b[38;5;241;43m.\u001b[39;49m\u001b[43mid\u001b[49m\u001b[38;5;241m==\u001b[39m\u001b[38;5;241m1\u001b[39m)\u001b[38;5;241m.\u001b[39mall()\n",
      "\u001b[0;31mAttributeError\u001b[0m: 'Table' object has no attribute 'id'"
     ]
    }
   ],
   "source": [
    "test =  session.query(model_config).filter(id==1).all();"
   ]
  },
  {
   "cell_type": "code",
   "execution_count": 17,
   "id": "ff59eb50-01a7-415c-8e2c-1b0fcff47d7a",
   "metadata": {},
   "outputs": [
    {
     "name": "stdout",
     "output_type": "stream",
     "text": [
      "[]\n"
     ]
    }
   ],
   "source": [
    "print(test)"
   ]
  },
  {
   "cell_type": "code",
   "execution_count": null,
   "id": "62ebc37e-5eee-475d-bfde-9f2719d502a3",
   "metadata": {},
   "outputs": [],
   "source": []
  }
 ],
 "metadata": {
  "kernelspec": {
   "display_name": "Python 3 (ipykernel)",
   "language": "python",
   "name": "python3"
  },
  "language_info": {
   "codemirror_mode": {
    "name": "ipython",
    "version": 3
   },
   "file_extension": ".py",
   "mimetype": "text/x-python",
   "name": "python",
   "nbconvert_exporter": "python",
   "pygments_lexer": "ipython3",
   "version": "3.10.6"
  }
 },
 "nbformat": 4,
 "nbformat_minor": 5
}
