{
 "cells": [
  {
   "cell_type": "code",
   "execution_count": 12,
   "metadata": {},
   "outputs": [],
   "source": [
    "import pathlib\n",
    "from psql import db, session\n",
    "from schema import model_config, model_profile, model_run\n",
    "from datetime import datetime\n",
    "import re"
   ]
  },
  {
   "cell_type": "code",
   "execution_count": 7,
   "metadata": {},
   "outputs": [
    {
     "name": "stdout",
     "output_type": "stream",
     "text": [
      "model_a c16_dt3600 1 6 breeze\n",
      "model_b c16_dt3600 1 6 breeze\n",
      "<schema.model_config object at 0x7f3c8ef85a80>\n",
      "<schema.model_config object at 0x7f3c8eff19c0>\n"
     ]
    }
   ],
   "source": [
    "from sqlalchemy import select\n",
    "\n",
    "for instance in session.query(model_config).order_by(model_config.id):\n",
    "    print(instance.model, instance.resolution, instance.thread, instance.process, instance.config )\n",
    "    \n",
    "for instance in session.query(model_config).order_by(model_config.id):\n",
    "    print(instance)"
   ]
  },
  {
   "cell_type": "code",
   "execution_count": 11,
   "metadata": {},
   "outputs": [
    {
     "name": "stdout",
     "output_type": "stream",
     "text": [
      "SELECT model_config.id AS model_config_id, model_config.model AS model_config_model, model_config.resolution AS model_config_resolution, model_config.thread AS model_config_thread, model_config.process AS model_config_process, model_config.config AS model_config_config \n",
      "FROM model_config\n",
      "[<schema.model_config object at 0x7f3c8eff3070>, <schema.model_config object at 0x7f3c8eff19c0>]\n"
     ]
    }
   ],
   "source": [
    "# table columns\n",
    "query_all = session.query(model_config)\n",
    "print(query_all)\n",
    "print(query_all.all())"
   ]
  },
  {
   "cell_type": "code",
   "execution_count": 4,
   "metadata": {},
   "outputs": [
    {
     "name": "stdout",
     "output_type": "stream",
     "text": [
      "<sqlalchemy.engine.result.ChunkedIteratorResult object at 0x7f3c8eff12a0>\n"
     ]
    }
   ],
   "source": [
    "query_exe = session.execute(select(model_config))\n",
    "print(query_exe)"
   ]
  },
  {
   "cell_type": "code",
   "execution_count": 13,
   "metadata": {},
   "outputs": [
    {
     "name": "stdout",
     "output_type": "stream",
     "text": [
      "model_a c16_dt3600 1 6 breeze\n",
      "model_b c16_dt3600 1 6 breeze\n",
      "<schema.model_config object at 0x7f3c8eff3070>\n",
      "<schema.model_config object at 0x7f3c8eff19c0>\n"
     ]
    }
   ],
   "source": [
    "from sqlalchemy import select\n",
    "\n",
    "for instance in session.query(model_config).order_by(model_config.id):\n",
    "    print(instance.model, instance.resolution, instance.thread, instance.process, instance.config )\n",
    "    \n",
    "for instance in session.query(model_config).order_by(model_config.id):\n",
    "    print(instance)"
   ]
  },
  {
   "cell_type": "code",
   "execution_count": 15,
   "metadata": {},
   "outputs": [
    {
     "name": "stdout",
     "output_type": "stream",
     "text": [
      "SELECT model_config.id AS model_config_id, model_config.model AS model_config_model, model_config.resolution AS model_config_resolution, model_config.thread AS model_config_thread, model_config.process AS model_config_process, model_config.config AS model_config_config \n",
      "FROM model_config\n"
     ]
    }
   ],
   "source": [
    "# table columns\n",
    "query_all = session.query(model_config)\n",
    "print(query_all)"
   ]
  },
  {
   "cell_type": "code",
   "execution_count": 5,
   "metadata": {},
   "outputs": [
    {
     "name": "stdout",
     "output_type": "stream",
     "text": [
      "(<schema.model_config object at 0x7f3c8eff2650>,)\n",
      "(<schema.model_config object at 0x7f3c8eff19c0>,)\n"
     ]
    }
   ],
   "source": [
    "for instance in session.execute(select(model_config)):\n",
    "    print(instance)"
   ]
  },
  {
   "cell_type": "code",
   "execution_count": 16,
   "metadata": {},
   "outputs": [],
   "source": [
    "session.commit()"
   ]
  },
  {
   "cell_type": "code",
   "execution_count": null,
   "metadata": {},
   "outputs": [],
   "source": []
  }
 ],
 "metadata": {
  "kernelspec": {
   "display_name": "Python 3 (ipykernel)",
   "language": "python",
   "name": "python3"
  },
  "language_info": {
   "codemirror_mode": {
    "name": "ipython",
    "version": 3
   },
   "file_extension": ".py",
   "mimetype": "text/x-python",
   "name": "python",
   "nbconvert_exporter": "python",
   "pygments_lexer": "ipython3",
   "version": "3.10.6"
  },
  "vscode": {
   "interpreter": {
    "hash": "2b88079544c908de0af3fef56119d39da0bc736d40dc3d04387304d3f6be4e46"
   }
  }
 },
 "nbformat": 4,
 "nbformat_minor": 4
}
