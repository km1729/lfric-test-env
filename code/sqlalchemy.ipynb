{
 "cells": [
  {
   "cell_type": "code",
   "execution_count": 1,
   "id": "19cff09c-1f39-4d6b-a96c-8e90b6e3d7ee",
   "metadata": {},
   "outputs": [],
   "source": [
    "from sqlalchemy import create_engine\n",
    "engine = create_engine('sqlite:///orm_test5.db', echo=True)"
   ]
  },
  {
   "cell_type": "code",
   "execution_count": 2,
   "id": "de3ab203-f3b8-4eb8-9aeb-7bdc581ff934",
   "metadata": {},
   "outputs": [],
   "source": [
    "from sqlalchemy.ext.declarative import declarative_base\n",
    "Base = declarative_base()"
   ]
  },
  {
   "cell_type": "code",
   "execution_count": 3,
   "id": "df7dc677-7b3c-4075-bcb6-16bf5a30c800",
   "metadata": {},
   "outputs": [],
   "source": [
    "from sqlalchemy import Column, Integer, String, DateTime\n",
    "class User(Base):\n",
    "    __tablename__ = 'users'\n",
    "    id = Column(Integer, primary_key=True)\n",
    "    name = Column(String)\n",
    "    fullname = Column(String)\n",
    "    nickname = Column(String)\n",
    "    date = Column(DateTime)\n",
    "    def __repr__(self):\n",
    "       return \"<User(name='%s', fullname='%s', nickname='%s',date='%s')>\" % (\n",
    "                            self.name, self.fullname, self.nickname, self.date)"
   ]
  },
  {
   "cell_type": "code",
   "execution_count": 4,
   "id": "1e822f6c-66a3-4423-89d7-4d396c666b12",
   "metadata": {},
   "outputs": [
    {
     "data": {
      "text/plain": [
       "Column(None, Integer(), table=None, primary_key=True, nullable=False, default=Sequence('user_id_seq'))"
      ]
     },
     "execution_count": 4,
     "metadata": {},
     "output_type": "execute_result"
    }
   ],
   "source": [
    "from sqlalchemy import Sequence\n",
    "Column(Integer, Sequence('user_id_seq'), primary_key=True)"
   ]
  },
  {
   "cell_type": "code",
   "execution_count": 5,
   "id": "7ae24927-33f7-4b99-8f0d-ccd7ceead87f",
   "metadata": {},
   "outputs": [
    {
     "name": "stdout",
     "output_type": "stream",
     "text": [
      "2022-09-05 08:24:45,012 INFO sqlalchemy.engine.Engine BEGIN (implicit)\n",
      "2022-09-05 08:24:45,013 INFO sqlalchemy.engine.Engine PRAGMA main.table_info(\"users\")\n",
      "2022-09-05 08:24:45,014 INFO sqlalchemy.engine.Engine [raw sql] ()\n",
      "2022-09-05 08:24:45,021 INFO sqlalchemy.engine.Engine PRAGMA temp.table_info(\"users\")\n",
      "2022-09-05 08:24:45,022 INFO sqlalchemy.engine.Engine [raw sql] ()\n",
      "2022-09-05 08:24:45,024 INFO sqlalchemy.engine.Engine \n",
      "CREATE TABLE users (\n",
      "\tid INTEGER NOT NULL, \n",
      "\tname VARCHAR, \n",
      "\tfullname VARCHAR, \n",
      "\tnickname VARCHAR, \n",
      "\tdate DATETIME, \n",
      "\tPRIMARY KEY (id)\n",
      ")\n",
      "\n",
      "\n",
      "2022-09-05 08:24:45,025 INFO sqlalchemy.engine.Engine [no key 0.00084s] ()\n",
      "2022-09-05 08:24:45,042 INFO sqlalchemy.engine.Engine COMMIT\n"
     ]
    }
   ],
   "source": [
    "Base.metadata.create_all(engine)"
   ]
  },
  {
   "cell_type": "code",
   "execution_count": 6,
   "id": "7206d685-d87f-4d2f-953f-f2dc9b0ce50e",
   "metadata": {},
   "outputs": [],
   "source": [
    "from datetime import datetime\n",
    "now = datetime.now()"
   ]
  },
  {
   "cell_type": "code",
   "execution_count": 7,
   "id": "320b828d-8800-4ae4-9c00-eca7ace039f0",
   "metadata": {},
   "outputs": [
    {
     "name": "stdout",
     "output_type": "stream",
     "text": [
      "<User(name='ed', fullname='Ed Jones', nickname='edsnickname',date='2022-09-05 08:24:59.319285')>\n",
      "ed\n",
      "Ed Jones\n",
      "edsnickname\n",
      "None\n"
     ]
    }
   ],
   "source": [
    "# Create an instance of the mapped Class\n",
    "\n",
    "ed_user = User(name='ed', fullname='Ed Jones', nickname='edsnickname', date=now)\n",
    "print(ed_user)\n",
    "print(ed_user.name)\n",
    "print(ed_user.fullname)\n",
    "print(ed_user.nickname)\n",
    "print(str(ed_user.id))"
   ]
  },
  {
   "cell_type": "code",
   "execution_count": 8,
   "id": "4fbf1ffb-6a81-4573-a4c2-a835963fb9ba",
   "metadata": {},
   "outputs": [],
   "source": [
    "from sqlalchemy.orm import sessionmaker\n",
    "\n",
    "session_maker = sessionmaker(bind=engine)\n",
    "session = session_maker()"
   ]
  },
  {
   "cell_type": "code",
   "execution_count": 9,
   "id": "9c3695f6-5079-4160-9539-721d930455e0",
   "metadata": {},
   "outputs": [
    {
     "name": "stdout",
     "output_type": "stream",
     "text": [
      "<User(name='ed', fullname='Ed Jones', nickname='edsnickname',date='2022-09-05 08:24:59.319285')>\n"
     ]
    },
    {
     "data": {
      "text/plain": [
       "False"
      ]
     },
     "execution_count": 9,
     "metadata": {},
     "output_type": "execute_result"
    }
   ],
   "source": [
    "session.add(ed_user)\n",
    "print(ed_user)\n",
    "ed_user in session.dirty"
   ]
  },
  {
   "cell_type": "code",
   "execution_count": 10,
   "id": "e9a427d0-a822-46e4-9dfd-b2523a46c7ff",
   "metadata": {},
   "outputs": [
    {
     "name": "stdout",
     "output_type": "stream",
     "text": [
      "2022-09-05 08:25:29,584 INFO sqlalchemy.engine.Engine BEGIN (implicit)\n",
      "2022-09-05 08:25:29,586 INFO sqlalchemy.engine.Engine INSERT INTO users (name, fullname, nickname, date) VALUES (?, ?, ?, ?)\n",
      "2022-09-05 08:25:29,587 INFO sqlalchemy.engine.Engine [generated in 0.00119s] ('ed', 'Ed Jones', 'edsnickname', '2022-09-05 08:24:59.319285')\n",
      "2022-09-05 08:25:29,595 INFO sqlalchemy.engine.Engine COMMIT\n"
     ]
    }
   ],
   "source": [
    "session.commit()"
   ]
  },
  {
   "cell_type": "code",
   "execution_count": 11,
   "id": "3d7125dd-2cb6-4b24-a1e3-d5d6dc90ce03",
   "metadata": {},
   "outputs": [
    {
     "name": "stdout",
     "output_type": "stream",
     "text": [
      "2022-09-05 08:25:37,239 INFO sqlalchemy.engine.Engine BEGIN (implicit)\n",
      "2022-09-05 08:25:37,241 INFO sqlalchemy.engine.Engine INSERT INTO users (name, fullname, nickname, date) VALUES (?, ?, ?, ?)\n",
      "2022-09-05 08:25:37,242 INFO sqlalchemy.engine.Engine [cached since 7.655s ago] ('wendy', 'Wendy Williams', 'windy', '2022-09-05 08:24:59.319285')\n",
      "2022-09-05 08:25:37,249 INFO sqlalchemy.engine.Engine INSERT INTO users (name, fullname, nickname, date) VALUES (?, ?, ?, ?)\n",
      "2022-09-05 08:25:37,250 INFO sqlalchemy.engine.Engine [cached since 7.664s ago] ('mary', 'Mary Contrary', 'mary', '2022-09-05 08:24:59.319285')\n",
      "2022-09-05 08:25:37,251 INFO sqlalchemy.engine.Engine INSERT INTO users (name, fullname, nickname, date) VALUES (?, ?, ?, ?)\n",
      "2022-09-05 08:25:37,252 INFO sqlalchemy.engine.Engine [cached since 7.665s ago] ('fred', 'Fred Flintstone', 'freddy', '2022-09-05 08:24:59.319285')\n",
      "2022-09-05 08:25:37,253 INFO sqlalchemy.engine.Engine COMMIT\n"
     ]
    }
   ],
   "source": [
    "session.add_all([\n",
    "    User(name='wendy', fullname='Wendy Williams', nickname='windy',date=now),\n",
    "    User(name='mary', fullname='Mary Contrary', nickname='mary', date=now),\n",
    "    User(name='fred', fullname='Fred Flintstone', nickname='freddy', date=now)])\n",
    "\n",
    "session.commit()"
   ]
  },
  {
   "cell_type": "code",
   "execution_count": 12,
   "id": "1b6cc27b-66cc-4978-88ce-a466567368f2",
   "metadata": {},
   "outputs": [],
   "source": [
    "from sqlalchemy import select"
   ]
  },
  {
   "cell_type": "code",
   "execution_count": 13,
   "id": "5e54f80a-f635-44c3-9226-b2934e3da533",
   "metadata": {},
   "outputs": [
    {
     "name": "stdout",
     "output_type": "stream",
     "text": [
      "SELECT users.id AS users_id, users.name AS users_name, users.fullname AS users_fullname, users.nickname AS users_nickname, users.date AS users_date \n",
      "FROM users\n",
      "<class 'sqlalchemy.orm.query.Query'>\n"
     ]
    }
   ],
   "source": [
    "query_all = session.query(User)\n",
    "print(query_all)\n",
    "print(type(query_all))"
   ]
  },
  {
   "cell_type": "code",
   "execution_count": 14,
   "id": "e0a1b77a-dc70-477e-9ccd-c51992fb8e68",
   "metadata": {},
   "outputs": [
    {
     "name": "stdout",
     "output_type": "stream",
     "text": [
      "2022-09-05 08:26:00,254 INFO sqlalchemy.engine.Engine BEGIN (implicit)\n",
      "2022-09-05 08:26:00,256 INFO sqlalchemy.engine.Engine SELECT users.id AS users_id, users.name AS users_name, users.fullname AS users_fullname, users.nickname AS users_nickname, users.date AS users_date \n",
      "FROM users\n",
      "2022-09-05 08:26:00,258 INFO sqlalchemy.engine.Engine [generated in 0.00149s] ()\n",
      "<User(name='ed', fullname='Ed Jones', nickname='edsnickname',date='2022-09-05 08:24:59.319285')>\n",
      "<User(name='wendy', fullname='Wendy Williams', nickname='windy',date='2022-09-05 08:24:59.319285')>\n",
      "<User(name='mary', fullname='Mary Contrary', nickname='mary',date='2022-09-05 08:24:59.319285')>\n",
      "<User(name='fred', fullname='Fred Flintstone', nickname='freddy',date='2022-09-05 08:24:59.319285')>\n"
     ]
    }
   ],
   "source": [
    "for i in query_all:\n",
    "    print(i)"
   ]
  },
  {
   "cell_type": "code",
   "execution_count": 15,
   "id": "36421be6-eb46-405f-8999-1d91dd648c2e",
   "metadata": {},
   "outputs": [
    {
     "name": "stdout",
     "output_type": "stream",
     "text": [
      "2022-09-05 08:27:13,932 INFO sqlalchemy.engine.Engine ROLLBACK\n"
     ]
    }
   ],
   "source": [
    "session.close()"
   ]
  },
  {
   "cell_type": "code",
   "execution_count": null,
   "id": "cfbe78af-b50b-46d7-9efd-3dabf1dcf7a5",
   "metadata": {},
   "outputs": [],
   "source": []
  }
 ],
 "metadata": {
  "kernelspec": {
   "display_name": "Python 3 (ipykernel)",
   "language": "python",
   "name": "python3"
  },
  "language_info": {
   "codemirror_mode": {
    "name": "ipython",
    "version": 3
   },
   "file_extension": ".py",
   "mimetype": "text/x-python",
   "name": "python",
   "nbconvert_exporter": "python",
   "pygments_lexer": "ipython3",
   "version": "3.10.6"
  }
 },
 "nbformat": 4,
 "nbformat_minor": 5
}
